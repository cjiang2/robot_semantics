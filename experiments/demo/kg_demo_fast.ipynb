{
 "cells": [
  {
   "cell_type": "markdown",
   "metadata": {},
   "source": [
    "## Inference One Video and Visualize the Knowledge Graph.\n",
    "Fast Demo: Load processed clips and do not host CNN."
   ]
  },
  {
   "cell_type": "code",
   "execution_count": 1,
   "metadata": {},
   "outputs": [],
   "source": [
    "import base64\n",
    "import os\n",
    "import sys\n",
    "import pickle\n",
    "\n",
    "import cv2\n",
    "from PIL import Image\n",
    "import numpy as np\n",
    "import matplotlib\n",
    "import matplotlib.pyplot as plt\n",
    "from matplotlib.animation import FuncAnimation\n",
    "%matplotlib inline\n",
    "\n",
    "from IPython.display import display\n",
    "from IPython.display import HTML\n",
    "from IPython.display import Javascript\n",
    "\n",
    "# Root directory of the project\n",
    "ROOT_DIR = os.path.abspath(\"../../\")\n",
    "\n",
    "# Import rs utils\n",
    "sys.path.append(ROOT_DIR)  # To find local version of the library\n",
    "from rs.config import Config\n",
    "from rs.models import *\n",
    "from rs import utils\n",
    "from rs import visualize\n",
    "from rs.datasets import loader\n",
    "from token2tag import *"
   ]
  },
  {
   "cell_type": "code",
   "execution_count": 2,
   "metadata": {},
   "outputs": [],
   "source": [
    "# Configuration for hperparameters\n",
    "class InferenceConfig(Config):\n",
    "    \"\"\"Configuration for training with RS-RGBD.\n",
    "    \"\"\"\n",
    "    NAME = 'v2l_RS-RGBD'\n",
    "    MODE = 'eval'\n",
    "    ROOT_DIR = ROOT_DIR\n",
    "    CHECKPOINT_PATH = os.path.join(ROOT_DIR, 'checkpoints')\n",
    "    DATASET_PATH = os.path.join(ROOT_DIR, 'data', 'RS-RGBD')\n",
    "    ONTO_FILE = os.path.join(DATASET_PATH, 'object_onto.owl')\n",
    "    \n",
    "    ### ------------ Modify params here ------------ ###\n",
    "    BACKBONE = 'resnet50'\n",
    "    LOAD_CNN = True\n",
    "    WEIGHTS_PATH = os.path.join(ROOT_DIR, 'checkpoints', 'weights', '{}.pth'.format(BACKBONE))\n",
    "    CHECKPOINT_FILE = os.path.join(CHECKPOINT_PATH, 'saved', 'v2l_trained.pth')\n",
    "    TASK = 'eval_wam_grasp_pour'\n",
    "    VIDEO_NAME = 'wam_unknown_water_plasticbottle1_glasscup3'\n",
    "    VIDEO_PATH = os.path.join(DATASET_PATH,\n",
    "                              TASK,\n",
    "                              VIDEO_NAME, VIDEO_NAME)\n",
    "    UPSAMPLE_METHOD = 'pyramid'\n",
    "    ### ------------ End of Modification ----------- ###"
   ]
  },
  {
   "cell_type": "markdown",
   "metadata": {},
   "source": [
    "## Some Helper Functions\n",
    "Helpers to generate clip, visualize attention, etc."
   ]
  },
  {
   "cell_type": "code",
   "execution_count": 3,
   "metadata": {},
   "outputs": [],
   "source": [
    "def init_model(config, \n",
    "               vocab,\n",
    "               CHECKPOINT_FILE):\n",
    "    # --------------------\n",
    "    # Setup and build video2lang training inference\n",
    "    v2l_model = Video2Lang(config, vocab)\n",
    "    v2l_model.build(None)\n",
    "\n",
    "    # Load back weights\n",
    "    v2l_model.load_weights(CHECKPOINT_FILE)\n",
    "    return v2l_model\n",
    "\n",
    "def load_video(video_path, \n",
    "               f_format='%d_rgb.png'):\n",
    "    \"\"\"OpenCV video stream wrapper to collect all frames.\n",
    "    \"\"\"\n",
    "    src = os.path.join(video_path, f_format)\n",
    "    cap = cv2.VideoCapture(src)\n",
    "    frames = []\n",
    "    while True:\n",
    "        ret, frame = cap.read()\n",
    "        if frame is not None:\n",
    "            frames.append(frame)\n",
    "        else:\n",
    "            break\n",
    "    cap.release()\n",
    "    return frames\n",
    "\n",
    "def preprocess_clip(clip):\n",
    "    \"\"\"Wrapper func to preprocess a clip.\n",
    "    \"\"\"\n",
    "    clip = [loader.transforms_data(Image.fromarray(cv2.cvtColor(x, cv2.COLOR_BGR2RGB))) for x in clip]\n",
    "    return torch.stack(clip)\n",
    "\n",
    "def generate_clips(frames, \n",
    "                   config):\n",
    "    \"\"\"Generate clips using video stream object.\n",
    "    \"\"\"\n",
    "    stream = utils.StreamSimple(window_size=config.WINDOW_SIZE)\n",
    "    clips = []\n",
    "    indices = []\n",
    "    for i, frame in enumerate(frames):\n",
    "        stream.add_frame(frame)\n",
    "        clip = stream.get_clip()\n",
    "        if clip is not None:\n",
    "            clip = preprocess_clip(clip)\n",
    "            clips.append(clip)\n",
    "            start_index = i - config.WINDOW_SIZE + 1\n",
    "            indices.append((start_index, i))\n",
    "\n",
    "    # Force retrieve the last clip\n",
    "    clip = stream.get_clip(forced_retrieve=True)\n",
    "    clip = preprocess_clip(clip)\n",
    "    clips.append(clip)\n",
    "    start_index = i - config.WINDOW_SIZE + 1\n",
    "    indices.append((start_index, i))\n",
    "    return clips, indices\n",
    "\n",
    "def show_video(video_path):\n",
    "    \"\"\"Display an mp4 video in jupyter.\n",
    "    \"\"\"\n",
    "    mp4 = open(video_path, 'rb').read()\n",
    "    data_url = 'data:video/mp4;base64,' + base64.b64encode(mp4).decode()\n",
    "    return HTML(\"\"\"<video width=600 controls>\n",
    "                <source src=\"%s\" type=\"video/mp4\"></video>\n",
    "                \"\"\" % data_url)\n",
    "\n",
    "def show_clip(frames,\n",
    "              interval=30,\n",
    "              plot_score=True,\n",
    "              fps=10):\n",
    "    tmp_path = 'output.mp4'\n",
    "    \n",
    "    num_frames = len(frames)\n",
    "    fig, ax = plt.subplots(ncols=1, nrows=1)\n",
    "    im0 = ax.imshow(frames[0])\n",
    "    \n",
    "    def update(i):\n",
    "        im0.set_data(frames[i])\n",
    "        ax.grid(False)\n",
    "        ax.set_xticks([])\n",
    "        ax.set_yticks([])\n",
    "        plt.tight_layout()\n",
    "\n",
    "    anim = FuncAnimation(fig,\n",
    "                         update,\n",
    "                         frames=num_frames,\n",
    "                         interval=interval,\n",
    "                         blit=False)\n",
    "    anim.save(tmp_path, fps=fps)\n",
    "    plt.close()\n",
    "    return show_video(tmp_path)"
   ]
  },
  {
   "cell_type": "markdown",
   "metadata": {},
   "source": [
    "## Inference\n",
    "Test the inference of video2command model."
   ]
  },
  {
   "cell_type": "code",
   "execution_count": 4,
   "metadata": {},
   "outputs": [
    {
     "name": "stdout",
     "output_type": "stream",
     "text": [
      "Loading...\n",
      "Model loaded.\n",
      "\n",
      "Configurations:\n",
      "------------------------------\n",
      "ANNOT_TO_USE                   command\n",
      "BACKBONE                       resnet50\n",
      "BATCH_SIZE                     16\n",
      "CHECKPOINT_FILE                /home/ubuntu/Desktop/workspace/robot_semantics/checkpoints/saved/v2l_trained.pth\n",
      "CHECKPOINT_PATH                /home/ubuntu/Desktop/workspace/robot_semantics/checkpoints\n",
      "CLIP_NORM                      5\n",
      "DATASET_PATH                   /home/ubuntu/Desktop/workspace/robot_semantics/data/RS-RGBD\n",
      "DISPLAY_EVERY                  20\n",
      "EMBED_DIM                      512\n",
      "END_WORD                       <eos>\n",
      "FREQUENCY                      None\n",
      "LEARNING_RATE                  0.0001\n",
      "LOAD_CNN                       True\n",
      "LR_DECAY_EVERY                 [5, 40]\n",
      "MAXLEN                         10\n",
      "MODE                           eval\n",
      "NAME                           v2l_RS-RGBD\n",
      "NUM_EPOCHS                     50\n",
      "ONTO_FILE                      /home/ubuntu/Desktop/workspace/robot_semantics/data/RS-RGBD/object_onto.owl\n",
      "RETRIEVAL_LIMIT                15\n",
      "ROOT_DIR                       /home/ubuntu/Desktop/workspace/robot_semantics\n",
      "SAVE_EVERY                     1\n",
      "START_WORD                     <sos>\n",
      "TASK                           eval_wam_grasp_pour\n",
      "TASKS                          ['human_grasp_pour', 'wam_grasp_pour', 'eval_human_grasp_pour', 'eval_wam_grasp_pour', 'human_point_and_intend', 'wam_point_and_intend', 'eval_wam_grasp_pour_complex']\n",
      "UNITS                          512\n",
      "UNK_WORD                       None\n",
      "UPSAMPLE_METHOD                pyramid\n",
      "VIDEO_NAME                     wam_unknown_water_plasticbottle1_glasscup3\n",
      "VIDEO_PATH                     /home/ubuntu/Desktop/workspace/robot_semantics/data/RS-RGBD/eval_wam_grasp_pour/wam_unknown_water_plasticbottle1_glasscup3/wam_unknown_water_plasticbottle1_glasscup3\n",
      "VOCAB_SIZE                     36\n",
      "WEIGHTS_PATH                   /home/ubuntu/Desktop/workspace/robot_semantics/checkpoints/weights/resnet50.pth\n",
      "WINDOW_SIZE                    30\n",
      "WORKERS                        12\n",
      "\n"
     ]
    }
   ],
   "source": [
    "# Setup configuration class\n",
    "config = InferenceConfig()\n",
    "\n",
    "# Load v2l model\n",
    "vocab = pickle.load(open(os.path.join(config.CHECKPOINT_PATH, 'vocab.pkl'), 'rb'))\n",
    "config.VOCAB_SIZE = len(vocab)\n",
    "v2l_model = init_model(config, vocab, config.CHECKPOINT_FILE)\n",
    "config.display()"
   ]
  },
  {
   "cell_type": "code",
   "execution_count": 5,
   "metadata": {},
   "outputs": [
    {
     "name": "stdout",
     "output_type": "stream",
     "text": [
      "Loading video...\n",
      "No. frames: 1569 (720, 1280, 3)\n",
      "Generating clips...\n",
      "No. clips: 104\n"
     ]
    }
   ],
   "source": [
    "# Collect video and generate clips\n",
    "print('Loading video...')\n",
    "frames = load_video(config.VIDEO_PATH)\n",
    "print('No. frames:', len(frames), frames[0].shape)\n",
    "\n",
    "print('Generating clips...')\n",
    "clips, indices = generate_clips(frames, config)\n",
    "print(\"No. clips:\", len(clips))"
   ]
  },
  {
   "cell_type": "code",
   "execution_count": 6,
   "metadata": {},
   "outputs": [
    {
     "name": "stdout",
     "output_type": "stream",
     "text": [
      "Clip Indices: (810, 839)\n"
     ]
    }
   ],
   "source": [
    "# State the clip index to be used\n",
    "### ------------ Modify params here ------------ ###\n",
    "idx = 54\n",
    "### ------------ End of Modification ----------- ###\n",
    "\n",
    "clip, indices_clip = clips[idx], indices[idx]\n",
    "frames_clip = frames[indices_clip[0]:indices_clip[1]]\n",
    "print('Clip Indices:', indices_clip)\n",
    "\n",
    "# Inference START HERE\n",
    "clip = clip.to(v2l_model.device)\n",
    "S, alphas = v2l_model.predict(clip)\n",
    "\n",
    "# Collect result to CPU\n",
    "S = S.cpu().numpy()[0]\n",
    "alphas = alphas[0].cpu().numpy()\n",
    "img_shape = frames_clip[0].shape[:2]\n",
    "text = utils.sequence_to_text(S, vocab)"
   ]
  },
  {
   "cell_type": "code",
   "execution_count": 7,
   "metadata": {},
   "outputs": [],
   "source": [
    "# Only visualize DKG against one prediction\n",
    "texts = [text]"
   ]
  },
  {
   "cell_type": "markdown",
   "metadata": {},
   "source": [
    "## Visual Attention\n",
    "Visualize generated attention maps."
   ]
  },
  {
   "cell_type": "code",
   "execution_count": 8,
   "metadata": {},
   "outputs": [
    {
     "name": "stdout",
     "output_type": "stream",
     "text": [
      "Predicted Command: wam hold plastic_bottle with water\n"
     ]
    },
    {
     "data": {
      "text/html": [
       "<video width=600 controls>\n",
       "                <source src=\"data:video/mp4;base64,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\" type=\"video/mp4\"></video>\n",
       "                "
      ],
      "text/plain": [
       "<IPython.core.display.HTML object>"
      ]
     },
     "execution_count": 8,
     "metadata": {},
     "output_type": "execute_result"
    }
   ],
   "source": [
    "# Visualize current attention maps and command language\n",
    "plots = visualize.display_video(frames_clip, \n",
    "                                [text for i in range(len(frames_clip))], \n",
    "                                alphas,\n",
    "                                show_plot=False,\n",
    "                                upsample_method=config.UPSAMPLE_METHOD)\n",
    "print(\"Predicted Command: {}\".format(text))\n",
    "show_clip(plots)"
   ]
  },
  {
   "cell_type": "markdown",
   "metadata": {},
   "source": [
    "## Ontology & DKG Visualization\n",
    "Here, we use the dynamic command sentence as the base knowledge graph. We loop through each word tokens(entities), retrieving known external knowledge stored inside a static ontology."
   ]
  },
  {
   "cell_type": "code",
   "execution_count": 9,
   "metadata": {},
   "outputs": [
    {
     "name": "stdout",
     "output_type": "stream",
     "text": [
      "Loaded owl file at: file:///home/ubuntu/Desktop/workspace/robot_semantics/data/RS-RGBD/object_onto.owl\n"
     ]
    },
    {
     "name": "stderr",
     "output_type": "stream",
     "text": [
      "* Owlready2 * Running HermiT...\n",
      "    java -Xmx2000M -cp /usr/local/lib/python3.6/dist-packages/owlready2/hermit:/usr/local/lib/python3.6/dist-packages/owlready2/hermit/HermiT.jar org.semanticweb.HermiT.cli.CommandLine -c -O -D -I file:////tmp/tmpu0rwkifo\n",
      "* Owlready2 * HermiT took 0.5613033771514893 seconds\n",
      "* Owlready * Reparenting object_onto.hasEntityPresented: {owl.ObjectProperty, object_onto.topContextClassProperty} => {object_onto.topContextClassProperty}\n",
      "* Owlready * Reparenting object_onto.hasGenericTemperature: {owl.ObjectProperty, object_onto.topClassProperty} => {object_onto.topClassProperty}\n",
      "* Owlready * Reparenting object_onto.hasFoodInsideGeneric: {owl.ObjectProperty, object_onto.topClassProperty} => {object_onto.topClassProperty}\n",
      "* Owlready * Reparenting object_onto.hasMaterial: {owl.ObjectProperty, owl.FunctionalProperty, object_onto.topClassProperty} => {object_onto.topClassProperty, owl.FunctionalProperty}\n",
      "* Owlready * Reparenting object_onto.canWithstandTemperature: {owl.ObjectProperty, object_onto.topClassProperty} => {object_onto.topClassProperty}\n",
      "* Owlready * (NB: only changes on entities loaded in Python are shown, other changes are done but not listed)\n"
     ]
    }
   ],
   "source": [
    "# --------------------\n",
    "# Init ontology model\n",
    "onto = utils.init_onto(config.ONTO_FILE)"
   ]
  },
  {
   "cell_type": "markdown",
   "metadata": {},
   "source": [
    "## Base Knowledge Graph\n",
    "Now let's see what the base skeleton knowledge graph looks like for a single video. A simple concatenation to grab all edges."
   ]
  },
  {
   "cell_type": "code",
   "execution_count": 10,
   "metadata": {
    "scrolled": false
   },
   "outputs": [
    {
     "name": "stdout",
     "output_type": "stream",
     "text": [
      "1\n",
      "Base Knowledge Graph: [('Wam', 'V2C_HOLD', 'PlasticBottle'), ('PlasticBottle', 'V2C_WITH', 'Water')]\n"
     ]
    },
    {
     "data": {
      "image/svg+xml": [
       "<?xml version=\"1.0\" encoding=\"UTF-8\" standalone=\"no\"?>\n",
       "<!DOCTYPE svg PUBLIC \"-//W3C//DTD SVG 1.1//EN\"\n",
       " \"http://www.w3.org/Graphics/SVG/1.1/DTD/svg11.dtd\">\n",
       "<!-- Generated by graphviz version 2.40.1 (20161225.0304)\n",
       " -->\n",
       "<!-- Title: KG Pages: 1 -->\n",
       "<svg width=\"121pt\" height=\"218pt\"\n",
       " viewBox=\"0.00 0.00 121.00 218.00\" xmlns=\"http://www.w3.org/2000/svg\" xmlns:xlink=\"http://www.w3.org/1999/xlink\">\n",
       "<g id=\"graph0\" class=\"graph\" transform=\"scale(1 1) rotate(0) translate(4 214)\">\n",
       "<title>KG</title>\n",
       "<polygon fill=\"#ffffff\" stroke=\"transparent\" points=\"-4,4 -4,-214 117,-214 117,4 -4,4\"/>\n",
       "<!-- Wam -->\n",
       "<g id=\"node1\" class=\"node\">\n",
       "<title>Wam</title>\n",
       "<polygon fill=\"none\" stroke=\"#000000\" points=\"70,-210 16,-210 16,-174 70,-174 70,-210\"/>\n",
       "<text text-anchor=\"middle\" x=\"43\" y=\"-188.3\" font-family=\"Times,serif\" font-size=\"14.00\" fill=\"#000000\">Wam</text>\n",
       "</g>\n",
       "<!-- PlasticBottle -->\n",
       "<g id=\"node2\" class=\"node\">\n",
       "<title>PlasticBottle</title>\n",
       "<polygon fill=\"none\" stroke=\"#000000\" points=\"86,-123 0,-123 0,-87 86,-87 86,-123\"/>\n",
       "<text text-anchor=\"middle\" x=\"43\" y=\"-101.3\" font-family=\"Times,serif\" font-size=\"14.00\" fill=\"#000000\">PlasticBottle</text>\n",
       "</g>\n",
       "<!-- Wam&#45;&gt;PlasticBottle -->\n",
       "<g id=\"edge1\" class=\"edge\">\n",
       "<title>Wam&#45;&gt;PlasticBottle</title>\n",
       "<path fill=\"none\" stroke=\"#000000\" d=\"M43,-173.9735C43,-162.1918 43,-146.5607 43,-133.1581\"/>\n",
       "<polygon fill=\"#000000\" stroke=\"#000000\" points=\"46.5001,-133.0033 43,-123.0034 39.5001,-133.0034 46.5001,-133.0033\"/>\n",
       "<text text-anchor=\"middle\" x=\"78\" y=\"-144.8\" font-family=\"Times,serif\" font-size=\"14.00\" fill=\"#000000\">V2C_HOLD</text>\n",
       "</g>\n",
       "<!-- Water -->\n",
       "<g id=\"node3\" class=\"node\">\n",
       "<title>Water</title>\n",
       "<polygon fill=\"none\" stroke=\"#000000\" points=\"70,-36 16,-36 16,0 70,0 70,-36\"/>\n",
       "<text text-anchor=\"middle\" x=\"43\" y=\"-14.3\" font-family=\"Times,serif\" font-size=\"14.00\" fill=\"#000000\">Water</text>\n",
       "</g>\n",
       "<!-- PlasticBottle&#45;&gt;Water -->\n",
       "<g id=\"edge2\" class=\"edge\">\n",
       "<title>PlasticBottle&#45;&gt;Water</title>\n",
       "<path fill=\"none\" stroke=\"#000000\" d=\"M43,-86.9735C43,-75.1918 43,-59.5607 43,-46.1581\"/>\n",
       "<polygon fill=\"#000000\" stroke=\"#000000\" points=\"46.5001,-46.0033 43,-36.0034 39.5001,-46.0034 46.5001,-46.0033\"/>\n",
       "<text text-anchor=\"middle\" x=\"77.5\" y=\"-57.8\" font-family=\"Times,serif\" font-size=\"14.00\" fill=\"#000000\">V2C_WITH</text>\n",
       "</g>\n",
       "</g>\n",
       "</svg>\n"
      ],
      "text/plain": [
       "<graphviz.dot.Digraph at 0x7f335f6dd4a8>"
      ]
     },
     "execution_count": 10,
     "metadata": {},
     "output_type": "execute_result"
    }
   ],
   "source": [
    "graph = utils.sentence_to_graph(texts[0], token2tag)\n",
    "print(len(texts))\n",
    "for i in range(len(texts)):\n",
    "    graph_curr = utils.sentence_to_graph(texts[i], token2tag)\n",
    "    for edge in graph_curr:\n",
    "        if edge not in graph:\n",
    "            graph.append(edge)\n",
    "            \n",
    "print('Base Knowledge Graph:', graph)\n",
    "e = visualize.convert_to_graphviz(graph, engine='dot')\n",
    "e"
   ]
  },
  {
   "cell_type": "markdown",
   "metadata": {},
   "source": [
    "## External Knowledge\n",
    "Search for external knowledge from ontology itself."
   ]
  },
  {
   "cell_type": "code",
   "execution_count": 11,
   "metadata": {},
   "outputs": [
    {
     "name": "stdout",
     "output_type": "stream",
     "text": [
      "\n",
      "External Knowledge Graph:\n",
      "--------------------\n",
      "[('PlasticBottle', 'hasMaterial, some', 'Plastic'), ('PlasticBottle', 'subclass_of', 'Bottle'), ('PlasticBottle', 'isGraspableBy, some', 'HumanHand'), ('PlasticBottle', 'isGraspableBy, some', 'KinovaArm'), ('PlasticBottle', 'isGraspableBy, some', 'WAMArm'), ('Bottle', 'has_subclass', 'PlasticBottle'), ('HumanHand', 'canGrasp, some', 'PlasticBottle'), ('KinovaArm', 'canGrasp, some', 'PlasticBottle'), ('WAMArm', 'canGrasp, some', 'PlasticBottle')]\n"
     ]
    }
   ],
   "source": [
    "# Search ontology, grab external knowledge\n",
    "graph_from_onto = []\n",
    "for text in texts:\n",
    "    graph_from_onto_curr = utils.retrieve_knowledge_graph(text, token2tag, onto)\n",
    "    for edge in graph_from_onto_curr:\n",
    "        if edge not in graph_from_onto:\n",
    "            graph_from_onto.append(edge)\n",
    "print()\n",
    "print('External Knowledge Graph:')\n",
    "print('-'*20)\n",
    "print(graph_from_onto)"
   ]
  },
  {
   "cell_type": "code",
   "execution_count": 12,
   "metadata": {
    "scrolled": false
   },
   "outputs": [
    {
     "data": {
      "image/svg+xml": [
       "<?xml version=\"1.0\" encoding=\"UTF-8\" standalone=\"no\"?>\n",
       "<!DOCTYPE svg PUBLIC \"-//W3C//DTD SVG 1.1//EN\"\n",
       " \"http://www.w3.org/Graphics/SVG/1.1/DTD/svg11.dtd\">\n",
       "<!-- Generated by graphviz version 2.40.1 (20161225.0304)\n",
       " -->\n",
       "<!-- Title: KG Pages: 1 -->\n",
       "<svg width=\"590pt\" height=\"530pt\"\n",
       " viewBox=\"0.00 0.00 590.49 529.80\" xmlns=\"http://www.w3.org/2000/svg\" xmlns:xlink=\"http://www.w3.org/1999/xlink\">\n",
       "<g id=\"graph0\" class=\"graph\" transform=\"scale(1 1) rotate(0) translate(4 525.8041)\">\n",
       "<title>KG</title>\n",
       "<polygon fill=\"#ffffff\" stroke=\"transparent\" points=\"-4,4 -4,-525.8041 586.4925,-525.8041 586.4925,4 -4,4\"/>\n",
       "<!-- PlasticBottle -->\n",
       "<g id=\"node1\" class=\"node\">\n",
       "<title>PlasticBottle</title>\n",
       "<polygon fill=\"none\" stroke=\"#000000\" points=\"335.4253,-290.8924 249.4253,-290.8924 249.4253,-254.8924 335.4253,-254.8924 335.4253,-290.8924\"/>\n",
       "<text text-anchor=\"middle\" x=\"292.4253\" y=\"-269.1924\" font-family=\"Times,serif\" font-size=\"14.00\" fill=\"#000000\">PlasticBottle</text>\n",
       "</g>\n",
       "<!-- Plastic -->\n",
       "<g id=\"node2\" class=\"node\">\n",
       "<title>Plastic</title>\n",
       "<polygon fill=\"none\" stroke=\"#000000\" points=\"428.4094,-521.8041 374.4094,-521.8041 374.4094,-485.8041 428.4094,-485.8041 428.4094,-521.8041\"/>\n",
       "<text text-anchor=\"middle\" x=\"401.4094\" y=\"-500.1041\" font-family=\"Times,serif\" font-size=\"14.00\" fill=\"#000000\">Plastic</text>\n",
       "</g>\n",
       "<!-- PlasticBottle&#45;&gt;Plastic -->\n",
       "<g id=\"edge1\" class=\"edge\">\n",
       "<title>PlasticBottle&#45;&gt;Plastic</title>\n",
       "<path fill=\"none\" stroke=\"#000000\" d=\"M300.9771,-291.0116C320.037,-331.3949 366.0908,-428.9723 388.5975,-476.6586\"/>\n",
       "<polygon fill=\"#000000\" stroke=\"#000000\" points=\"385.4639,-478.2195 392.8973,-485.769 391.7942,-475.2317 385.4639,-478.2195\"/>\n",
       "<text text-anchor=\"middle\" x=\"293.7873\" y=\"-387.6351\" font-family=\"Times,serif\" font-size=\"14.00\" fill=\"#000000\">hasMaterial, some</text>\n",
       "</g>\n",
       "<!-- Bottle -->\n",
       "<g id=\"node3\" class=\"node\">\n",
       "<title>Bottle</title>\n",
       "<polygon fill=\"none\" stroke=\"#000000\" points=\"205.2253,-519.9036 151.2253,-519.9036 151.2253,-483.9036 205.2253,-483.9036 205.2253,-519.9036\"/>\n",
       "<text text-anchor=\"middle\" x=\"178.2253\" y=\"-498.2036\" font-family=\"Times,serif\" font-size=\"14.00\" fill=\"#000000\">Bottle</text>\n",
       "</g>\n",
       "<!-- PlasticBottle&#45;&gt;Bottle -->\n",
       "<g id=\"edge2\" class=\"edge\">\n",
       "<title>PlasticBottle&#45;&gt;Bottle</title>\n",
       "<path fill=\"none\" stroke=\"#000000\" d=\"M278.8989,-291.0239C255.0482,-331.0159 207.1127,-426.8182 187.0159,-474.3066\"/>\n",
       "<polygon fill=\"#000000\" stroke=\"#000000\" points=\"183.7322,-473.0895 183.1687,-483.6693 190.2069,-475.75 183.7322,-473.0895\"/>\n",
       "<text text-anchor=\"middle\" x=\"200.9574\" y=\"-386.4653\" font-family=\"Times,serif\" font-size=\"14.00\" fill=\"#000000\">subclass_of</text>\n",
       "</g>\n",
       "<!-- HumanHand -->\n",
       "<g id=\"node4\" class=\"node\">\n",
       "<title>HumanHand</title>\n",
       "<polygon fill=\"none\" stroke=\"#000000\" points=\"86,-344.1149 0,-344.1149 0,-308.1149 86,-308.1149 86,-344.1149\"/>\n",
       "<text text-anchor=\"middle\" x=\"43\" y=\"-322.4149\" font-family=\"Times,serif\" font-size=\"14.00\" fill=\"#000000\">HumanHand</text>\n",
       "</g>\n",
       "<!-- PlasticBottle&#45;&gt;HumanHand -->\n",
       "<g id=\"edge3\" class=\"edge\">\n",
       "<title>PlasticBottle&#45;&gt;HumanHand</title>\n",
       "<path fill=\"none\" stroke=\"#000000\" d=\"M249.3097,-276.7708C206.7489,-283.9214 141.5972,-297.6621 95.9222,-309.0165\"/>\n",
       "<polygon fill=\"#000000\" stroke=\"#000000\" points=\"95.0367,-305.6302 86.1992,-311.4739 96.752,-312.4168 95.0367,-305.6302\"/>\n",
       "<text text-anchor=\"middle\" x=\"114.116\" y=\"-281.6937\" font-family=\"Times,serif\" font-size=\"14.00\" fill=\"#000000\">isGraspableBy, some</text>\n",
       "</g>\n",
       "<!-- KinovaArm -->\n",
       "<g id=\"node5\" class=\"node\">\n",
       "<title>KinovaArm</title>\n",
       "<polygon fill=\"none\" stroke=\"#000000\" points=\"582.4925,-349.7086 500.4925,-349.7086 500.4925,-313.7086 582.4925,-313.7086 582.4925,-349.7086\"/>\n",
       "<text text-anchor=\"middle\" x=\"541.4925\" y=\"-328.0086\" font-family=\"Times,serif\" font-size=\"14.00\" fill=\"#000000\">KinovaArm</text>\n",
       "</g>\n",
       "<!-- PlasticBottle&#45;&gt;KinovaArm -->\n",
       "<g id=\"edge4\" class=\"edge\">\n",
       "<title>PlasticBottle&#45;&gt;KinovaArm</title>\n",
       "<path fill=\"none\" stroke=\"#000000\" d=\"M335.4476,-288.5015C378.4296,-300.5504 444.506,-316.2332 490.1925,-325.2812\"/>\n",
       "<polygon fill=\"#000000\" stroke=\"#000000\" points=\"489.7069,-328.7521 500.1897,-327.2159 491.0369,-321.8796 489.7069,-328.7521\"/>\n",
       "<text text-anchor=\"middle\" x=\"354.3201\" y=\"-310.6914\" font-family=\"Times,serif\" font-size=\"14.00\" fill=\"#000000\">isGraspableBy, some</text>\n",
       "</g>\n",
       "<!-- WAMArm -->\n",
       "<g id=\"node6\" class=\"node\">\n",
       "<title>WAMArm</title>\n",
       "<polygon fill=\"none\" stroke=\"#000000\" points=\"134.0554,-129.7912 56.0554,-129.7912 56.0554,-93.7912 134.0554,-93.7912 134.0554,-129.7912\"/>\n",
       "<text text-anchor=\"middle\" x=\"95.0554\" y=\"-108.0912\" font-family=\"Times,serif\" font-size=\"14.00\" fill=\"#000000\">WAMArm</text>\n",
       "</g>\n",
       "<!-- PlasticBottle&#45;&gt;WAMArm -->\n",
       "<g id=\"edge5\" class=\"edge\">\n",
       "<title>PlasticBottle&#45;&gt;WAMArm</title>\n",
       "<path fill=\"none\" stroke=\"#000000\" d=\"M276.812,-254.8386C245.9398,-225.6776 176.6468,-168.6148 133.0596,-135.993\"/>\n",
       "<polygon fill=\"#000000\" stroke=\"#000000\" points=\"135.0895,-133.141 124.9696,-130.0043 130.9246,-138.7672 135.0895,-133.141\"/>\n",
       "<text text-anchor=\"middle\" x=\"146.4358\" y=\"-199.2158\" font-family=\"Times,serif\" font-size=\"14.00\" fill=\"#000000\">isGraspableBy, some</text>\n",
       "</g>\n",
       "<!-- Water -->\n",
       "<g id=\"node8\" class=\"node\">\n",
       "<title>Water</title>\n",
       "<polygon fill=\"none\" stroke=\"#000000\" points=\"322.2501,-36 268.2501,-36 268.2501,0 322.2501,0 322.2501,-36\"/>\n",
       "<text text-anchor=\"middle\" x=\"295.2501\" y=\"-14.3\" font-family=\"Times,serif\" font-size=\"14.00\" fill=\"#000000\">Water</text>\n",
       "</g>\n",
       "<!-- PlasticBottle&#45;&gt;Water -->\n",
       "<g id=\"edge11\" class=\"edge\">\n",
       "<title>PlasticBottle&#45;&gt;Water</title>\n",
       "<path fill=\"none\" stroke=\"#000000\" d=\"M292.6285,-254.5611C293.1151,-210.6546 294.3501,-99.2078 294.9345,-46.48\"/>\n",
       "<polygon fill=\"#000000\" stroke=\"#000000\" points=\"298.4377,-46.2033 295.0488,-36.1651 291.4381,-46.1257 298.4377,-46.2033\"/>\n",
       "<text text-anchor=\"middle\" x=\"259.2815\" y=\"-154.3205\" font-family=\"Times,serif\" font-size=\"14.00\" fill=\"#000000\">V2C_WITH</text>\n",
       "</g>\n",
       "<!-- Bottle&#45;&gt;PlasticBottle -->\n",
       "<g id=\"edge6\" class=\"edge\">\n",
       "<title>Bottle&#45;&gt;PlasticBottle</title>\n",
       "<path fill=\"none\" stroke=\"#000000\" d=\"M191.7517,-483.772C215.6024,-443.78 263.5379,-347.9777 283.6347,-300.4893\"/>\n",
       "<polygon fill=\"#000000\" stroke=\"#000000\" points=\"286.9184,-301.7065 287.4819,-291.1266 280.4437,-299.0459 286.9184,-301.7065\"/>\n",
       "<text text-anchor=\"middle\" x=\"202.6932\" y=\"-395.9306\" font-family=\"Times,serif\" font-size=\"14.00\" fill=\"#000000\">has_subclass</text>\n",
       "</g>\n",
       "<!-- HumanHand&#45;&gt;PlasticBottle -->\n",
       "<g id=\"edge7\" class=\"edge\">\n",
       "<title>HumanHand&#45;&gt;PlasticBottle</title>\n",
       "<path fill=\"none\" stroke=\"#000000\" d=\"M86.1156,-322.2364C128.6765,-315.0858 193.8281,-301.3451 239.5031,-289.9907\"/>\n",
       "<polygon fill=\"#000000\" stroke=\"#000000\" points=\"240.3886,-293.377 249.2262,-287.5334 238.6734,-286.5904 240.3886,-293.377\"/>\n",
       "<text text-anchor=\"middle\" x=\"206.8094\" y=\"-309.9135\" font-family=\"Times,serif\" font-size=\"14.00\" fill=\"#000000\">canGrasp, some</text>\n",
       "</g>\n",
       "<!-- KinovaArm&#45;&gt;PlasticBottle -->\n",
       "<g id=\"edge8\" class=\"edge\">\n",
       "<title>KinovaArm&#45;&gt;PlasticBottle</title>\n",
       "<path fill=\"none\" stroke=\"#000000\" d=\"M500.4406,-316.6539C458.0802,-304.691 391.8418,-288.9179 345.5213,-279.6767\"/>\n",
       "<polygon fill=\"#000000\" stroke=\"#000000\" points=\"346.1493,-276.2333 335.6639,-277.7521 344.8079,-283.1036 346.1493,-276.2333\"/>\n",
       "<text text-anchor=\"middle\" x=\"466.9809\" y=\"-301.9653\" font-family=\"Times,serif\" font-size=\"14.00\" fill=\"#000000\">canGrasp, some</text>\n",
       "</g>\n",
       "<!-- WAMArm&#45;&gt;PlasticBottle -->\n",
       "<g id=\"edge9\" class=\"edge\">\n",
       "<title>WAMArm&#45;&gt;PlasticBottle</title>\n",
       "<path fill=\"none\" stroke=\"#000000\" d=\"M110.6687,-129.845C141.5409,-159.0059 210.834,-216.0687 254.4212,-248.6905\"/>\n",
       "<polygon fill=\"#000000\" stroke=\"#000000\" points=\"252.3913,-251.5425 262.5111,-254.6793 256.5562,-245.9163 252.3913,-251.5425\"/>\n",
       "<text text-anchor=\"middle\" x=\"138.5449\" y=\"-178.0677\" font-family=\"Times,serif\" font-size=\"14.00\" fill=\"#000000\">canGrasp, some</text>\n",
       "</g>\n",
       "<!-- Wam -->\n",
       "<g id=\"node7\" class=\"node\">\n",
       "<title>Wam</title>\n",
       "<polygon fill=\"none\" stroke=\"#000000\" points=\"520.1337,-134.131 466.1337,-134.131 466.1337,-98.131 520.1337,-98.131 520.1337,-134.131\"/>\n",
       "<text text-anchor=\"middle\" x=\"493.1337\" y=\"-112.431\" font-family=\"Times,serif\" font-size=\"14.00\" fill=\"#000000\">Wam</text>\n",
       "</g>\n",
       "<!-- Wam&#45;&gt;PlasticBottle -->\n",
       "<g id=\"edge10\" class=\"edge\">\n",
       "<title>Wam&#45;&gt;PlasticBottle</title>\n",
       "<path fill=\"none\" stroke=\"#000000\" d=\"M469.7171,-134.4203C433.5354,-162.6797 364.0074,-216.9839 323.6075,-248.5378\"/>\n",
       "<polygon fill=\"#000000\" stroke=\"#000000\" points=\"321.4195,-245.8057 315.6928,-254.7195 325.7283,-251.3224 321.4195,-245.8057\"/>\n",
       "<text text-anchor=\"middle\" x=\"361.6623\" y=\"-195.2791\" font-family=\"Times,serif\" font-size=\"14.00\" fill=\"#000000\">V2C_HOLD</text>\n",
       "</g>\n",
       "</g>\n",
       "</svg>\n"
      ],
      "text/plain": [
       "<graphviz.dot.Digraph at 0x7f335f711d68>"
      ]
     },
     "execution_count": 12,
     "metadata": {},
     "output_type": "execute_result"
    }
   ],
   "source": [
    "e = visualize.convert_to_graphviz(graph_from_onto + graph, engine='sfdp')\n",
    "e.view()    # Save knowledge graph as a pdf\n",
    "e"
   ]
  }
 ],
 "metadata": {
  "kernelspec": {
   "display_name": "Python 3",
   "language": "python",
   "name": "python3"
  },
  "language_info": {
   "codemirror_mode": {
    "name": "ipython",
    "version": 3
   },
   "file_extension": ".py",
   "mimetype": "text/x-python",
   "name": "python",
   "nbconvert_exporter": "python",
   "pygments_lexer": "ipython3",
   "version": "3.6.9"
  }
 },
 "nbformat": 4,
 "nbformat_minor": 2
}
