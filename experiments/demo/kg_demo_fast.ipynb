{
 "cells": [
  {
   "cell_type": "markdown",
   "metadata": {},
   "source": [
    "## Inference One Video and Visualize the Knowledge Graph.\n",
    "Fast Demo: Load processed clips and do not host CNN."
   ]
  },
  {
   "cell_type": "code",
   "execution_count": 1,
   "metadata": {},
   "outputs": [],
   "source": [
    "import base64\n",
    "import os\n",
    "import sys\n",
    "import pickle\n",
    "\n",
    "import cv2\n",
    "from PIL import Image\n",
    "import numpy as np\n",
    "import matplotlib\n",
    "import matplotlib.pyplot as plt\n",
    "from matplotlib.animation import FuncAnimation\n",
    "%matplotlib inline\n",
    "\n",
    "from IPython.display import display\n",
    "from IPython.display import HTML\n",
    "from IPython.display import Javascript\n",
    "\n",
    "# Root directory of the project\n",
    "ROOT_DIR = os.path.abspath(\"../../\")\n",
    "\n",
    "# Import rs utils\n",
    "sys.path.append(ROOT_DIR)  # To find local version of the library\n",
    "from rs.config import Config\n",
    "from rs.models import *\n",
    "from rs import utils\n",
    "from rs import visualize\n",
    "from rs.datasets import loader\n",
    "from token2tag import *"
   ]
  },
  {
   "cell_type": "code",
   "execution_count": 2,
   "metadata": {},
   "outputs": [],
   "source": [
    "# Configuration for hperparameters\n",
    "class InferenceConfig(Config):\n",
    "    \"\"\"Configuration for training with RS-RGBD.\n",
    "    \"\"\"\n",
    "    NAME = 'v2l_RS-RGBD'\n",
    "    MODE = 'eval'\n",
    "    ROOT_DIR = ROOT_DIR\n",
    "    CHECKPOINT_PATH = os.path.join(ROOT_DIR, 'checkpoints')\n",
    "    DATASET_PATH = os.path.join(ROOT_DIR, 'data', 'RS-RGBD')\n",
    "    ONTO_FILE = os.path.join(DATASET_PATH, 'object_onto.owl')\n",
    "    \n",
    "    ### ------------ Modify params here ------------ ###\n",
    "    BACKBONE = 'resnet50'\n",
    "    LOAD_CNN = True\n",
    "    WEIGHTS_PATH = os.path.join(ROOT_DIR, 'checkpoints', 'weights', '{}.pth'.format(BACKBONE))\n",
    "    CHECKPOINT_FILE = os.path.join(CHECKPOINT_PATH, 'saved', 'v2l_trained.pth')\n",
    "    TASK = 'eval_wam_grasp_pour'\n",
    "    VIDEO_NAME = 'wam_unknown_water_plasticbottle1_glasscup3'\n",
    "    VIDEO_PATH = os.path.join(DATASET_PATH,\n",
    "                              TASK,\n",
    "                              VIDEO_NAME, VIDEO_NAME)\n",
    "    UPSAMPLE_METHOD = 'pyramid'\n",
    "    ### ------------ End of Modification ----------- ###"
   ]
  },
  {
   "cell_type": "markdown",
   "metadata": {},
   "source": [
    "## Some Helper Functions\n",
    "Helpers to generate clip, visualize attention, etc."
   ]
  },
  {
   "cell_type": "code",
   "execution_count": 3,
   "metadata": {},
   "outputs": [],
   "source": [
    "def init_model(config, \n",
    "               vocab,\n",
    "               CHECKPOINT_FILE):\n",
    "    # --------------------\n",
    "    # Setup and build video2lang training inference\n",
    "    v2l_model = Video2Lang(config, vocab)\n",
    "    v2l_model.build(None)\n",
    "\n",
    "    # Load back weights\n",
    "    v2l_model.load_weights(CHECKPOINT_FILE)\n",
    "    return v2l_model\n",
    "\n",
    "def load_video(video_path, \n",
    "               f_format='%d_rgb.png'):\n",
    "    \"\"\"OpenCV video stream wrapper to collect all frames.\n",
    "    \"\"\"\n",
    "    src = os.path.join(video_path, f_format)\n",
    "    cap = cv2.VideoCapture(src)\n",
    "    frames = []\n",
    "    while True:\n",
    "        ret, frame = cap.read()\n",
    "        if frame is not None:\n",
    "            frames.append(frame)\n",
    "        else:\n",
    "            break\n",
    "    cap.release()\n",
    "    return frames\n",
    "\n",
    "def preprocess_clip(clip):\n",
    "    \"\"\"Wrapper func to preprocess a clip.\n",
    "    \"\"\"\n",
    "    clip = [loader.transforms_data(Image.fromarray(cv2.cvtColor(x, cv2.COLOR_BGR2RGB))) for x in clip]\n",
    "    return torch.stack(clip)\n",
    "\n",
    "def generate_clips(frames, \n",
    "                   config):\n",
    "    \"\"\"Generate clips using video stream object.\n",
    "    \"\"\"\n",
    "    stream = utils.StreamSimple(window_size=config.WINDOW_SIZE)\n",
    "    clips = []\n",
    "    indices = []\n",
    "    for i, frame in enumerate(frames):\n",
    "        stream.add_frame(frame)\n",
    "        clip = stream.get_clip()\n",
    "        if clip is not None:\n",
    "            clip = preprocess_clip(clip)\n",
    "            clips.append(clip)\n",
    "            start_index = i - config.WINDOW_SIZE + 1\n",
    "            indices.append((start_index, i))\n",
    "\n",
    "    # Force retrieve the last clip\n",
    "    clip = stream.get_clip(forced_retrieve=True)\n",
    "    clip = preprocess_clip(clip)\n",
    "    clips.append(clip)\n",
    "    start_index = i - config.WINDOW_SIZE + 1\n",
    "    indices.append((start_index, i))\n",
    "    return clips, indices\n",
    "\n",
    "def show_video(video_path):\n",
    "    \"\"\"Display an mp4 video in jupyter.\n",
    "    \"\"\"\n",
    "    mp4 = open(video_path, 'rb').read()\n",
    "    data_url = 'data:video/mp4;base64,' + base64.b64encode(mp4).decode()\n",
    "    return HTML(\"\"\"<video width=600 controls>\n",
    "                <source src=\"%s\" type=\"video/mp4\"></video>\n",
    "                \"\"\" % data_url)\n",
    "\n",
    "def show_clip(frames,\n",
    "              interval=30,\n",
    "              plot_score=True,\n",
    "              fps=10):\n",
    "    tmp_path = 'output.mp4'\n",
    "    \n",
    "    num_frames = len(frames)\n",
    "    fig, ax = plt.subplots(ncols=1, nrows=1)\n",
    "    im0 = ax.imshow(frames[0])\n",
    "    \n",
    "    def update(i):\n",
    "        im0.set_data(frames[i])\n",
    "        ax.grid(False)\n",
    "        ax.set_xticks([])\n",
    "        ax.set_yticks([])\n",
    "        plt.tight_layout()\n",
    "\n",
    "    anim = FuncAnimation(fig,\n",
    "                         update,\n",
    "                         frames=num_frames,\n",
    "                         interval=interval,\n",
    "                         blit=False)\n",
    "    anim.save(tmp_path, fps=fps)\n",
    "    plt.close()\n",
    "    return show_video(tmp_path)"
   ]
  },
  {
   "cell_type": "markdown",
   "metadata": {},
   "source": [
    "## Inference\n",
    "Test the inference of video2command model."
   ]
  },
  {
   "cell_type": "code",
   "execution_count": 4,
   "metadata": {},
   "outputs": [
    {
     "name": "stdout",
     "output_type": "stream",
     "text": [
      "Loading...\n",
      "Model loaded.\n",
      "\n",
      "Configurations:\n",
      "------------------------------\n",
      "ANNOT_TO_USE                   command\n",
      "BACKBONE                       resnet50\n",
      "BATCH_SIZE                     16\n",
      "CHECKPOINT_FILE                /home/ubuntu/Desktop/workspace/robot_semantics/checkpoints/saved/v2l_trained.pth\n",
      "CHECKPOINT_PATH                /home/ubuntu/Desktop/workspace/robot_semantics/checkpoints\n",
      "CLIP_NORM                      5.0\n",
      "DATASET_PATH                   /home/ubuntu/Desktop/workspace/robot_semantics/data/RS-RGBD\n",
      "DISPLAY_EVERY                  20\n",
      "EMBED_DIM                      256\n",
      "END_WORD                       <eos>\n",
      "FREQUENCY                      None\n",
      "LEARNING_RATE                  0.0001\n",
      "LOAD_CNN                       True\n",
      "LR_DECAY_EVERY                 [5, 40]\n",
      "MAXLEN                         10\n",
      "MODE                           eval\n",
      "NAME                           v2l_RS-RGBD\n",
      "NUM_EPOCHS                     50\n",
      "ONTO_FILE                      /home/ubuntu/Desktop/workspace/robot_semantics/data/RS-RGBD/object_onto.owl\n",
      "RETRIEVAL_LIMIT                15\n",
      "ROOT_DIR                       /home/ubuntu/Desktop/workspace/robot_semantics\n",
      "SAVE_EVERY                     1\n",
      "START_WORD                     <sos>\n",
      "TASK                           eval_wam_grasp_pour\n",
      "TASKS                          ['human_grasp_pour', 'wam_grasp_pour', 'human_point_and_intend', 'wam_point_and_intend', 'eval_human_grasp_pour', 'eval_wam_grasp_pour', 'eval_wam_grasp_pour_complex']\n",
      "UNITS                          256\n",
      "UNK_WORD                       None\n",
      "UPSAMPLE_METHOD                pyramid\n",
      "USE_V1_COMMAND                 True\n",
      "VIDEO_NAME                     wam_unknown_water_plasticbottle1_glasscup3\n",
      "VIDEO_PATH                     /home/ubuntu/Desktop/workspace/robot_semantics/data/RS-RGBD/eval_wam_grasp_pour/wam_unknown_water_plasticbottle1_glasscup3/wam_unknown_water_plasticbottle1_glasscup3\n",
      "VOCAB_SIZE                     41\n",
      "WEIGHTS_PATH                   /home/ubuntu/Desktop/workspace/robot_semantics/checkpoints/weights/resnet50.pth\n",
      "WEIGHT_DECAY                   0.0001\n",
      "WINDOW_SIZE                    30\n",
      "WORKERS                        12\n",
      "\n"
     ]
    }
   ],
   "source": [
    "# Setup configuration class\n",
    "config = InferenceConfig()\n",
    "\n",
    "# Load v2l model\n",
    "vocab = pickle.load(open(os.path.join(config.CHECKPOINT_PATH, 'vocab.pkl'), 'rb'))\n",
    "config.VOCAB_SIZE = len(vocab)\n",
    "v2l_model = init_model(config, vocab, config.CHECKPOINT_FILE)\n",
    "config.display()"
   ]
  },
  {
   "cell_type": "code",
   "execution_count": 5,
   "metadata": {},
   "outputs": [
    {
     "name": "stdout",
     "output_type": "stream",
     "text": [
      "Loading video...\n",
      "No. frames: 1569 (720, 1280, 3)\n",
      "Generating clips...\n",
      "No. clips: 104\n"
     ]
    }
   ],
   "source": [
    "# Collect video and generate clips\n",
    "print('Loading video...')\n",
    "frames = load_video(config.VIDEO_PATH)\n",
    "print('No. frames:', len(frames), frames[0].shape)\n",
    "\n",
    "print('Generating clips...')\n",
    "clips, indices = generate_clips(frames, config)\n",
    "print(\"No. clips:\", len(clips))"
   ]
  },
  {
   "cell_type": "code",
   "execution_count": 6,
   "metadata": {},
   "outputs": [
    {
     "name": "stdout",
     "output_type": "stream",
     "text": [
      "Clip Indices: (810, 839)\n"
     ]
    }
   ],
   "source": [
    "# State the clip index to be used\n",
    "### ------------ Modify params here ------------ ###\n",
    "idx = 54\n",
    "### ------------ End of Modification ----------- ###\n",
    "\n",
    "clip, indices_clip = clips[idx], indices[idx]\n",
    "frames_clip = frames[indices_clip[0]:indices_clip[1]]\n",
    "print('Clip Indices:', indices_clip)\n",
    "\n",
    "# Inference START HERE\n",
    "clip = clip.to(v2l_model.device)\n",
    "S = v2l_model.predict(clip)\n",
    "\n",
    "# Collect result to CPU\n",
    "S = S.cpu().numpy()[0]\n",
    "img_shape = frames_clip[0].shape[:2]\n",
    "text = utils.sequence_to_text(S, vocab)"
   ]
  },
  {
   "cell_type": "code",
   "execution_count": 7,
   "metadata": {},
   "outputs": [],
   "source": [
    "# Only visualize DKG against one prediction\n",
    "texts = [text]"
   ]
  },
  {
   "cell_type": "markdown",
   "metadata": {},
   "source": [
    "## Ontology & DKG Visualization\n",
    "Here, we use the dynamic command sentence as the base knowledge graph. We loop through each word tokens(entities), retrieving known external knowledge stored inside a static ontology."
   ]
  },
  {
   "cell_type": "code",
   "execution_count": 8,
   "metadata": {},
   "outputs": [
    {
     "name": "stdout",
     "output_type": "stream",
     "text": [
      "Loaded owl file at: file:///home/ubuntu/Desktop/workspace/robot_semantics/data/RS-RGBD/object_onto.owl\n"
     ]
    },
    {
     "name": "stderr",
     "output_type": "stream",
     "text": [
      "* Owlready2 * Running HermiT...\n",
      "    java -Xmx2000M -cp /usr/local/lib/python3.6/dist-packages/owlready2/hermit:/usr/local/lib/python3.6/dist-packages/owlready2/hermit/HermiT.jar org.semanticweb.HermiT.cli.CommandLine -c -O -D -I file:////tmp/tmp_an38gr5\n",
      "* Owlready2 * HermiT took 0.7003896236419678 seconds\n",
      "* Owlready * Reparenting object_onto.hasEntityPresented: {owl.ObjectProperty, object_onto.topContextClassProperty} => {object_onto.topContextClassProperty}\n",
      "* Owlready * Reparenting object_onto.hasGenericTemperature: {owl.ObjectProperty, object_onto.topClassProperty} => {object_onto.topClassProperty}\n",
      "* Owlready * Reparenting object_onto.hasFoodInsideGeneric: {owl.ObjectProperty, object_onto.topClassProperty} => {object_onto.topClassProperty}\n",
      "* Owlready * Reparenting object_onto.hasMaterial: {owl.ObjectProperty, object_onto.topClassProperty, owl.FunctionalProperty} => {object_onto.topClassProperty, owl.FunctionalProperty}\n",
      "* Owlready * Reparenting object_onto.canWithstandTemperature: {owl.ObjectProperty, object_onto.topClassProperty} => {object_onto.topClassProperty}\n",
      "* Owlready * (NB: only changes on entities loaded in Python are shown, other changes are done but not listed)\n"
     ]
    }
   ],
   "source": [
    "# --------------------\n",
    "# Init ontology model\n",
    "onto = utils.init_onto(config.ONTO_FILE)"
   ]
  },
  {
   "cell_type": "markdown",
   "metadata": {},
   "source": [
    "## Base Knowledge Graph\n",
    "Now let's see what the base skeleton knowledge graph looks like for a single video. A simple concatenation to grab all edges."
   ]
  },
  {
   "cell_type": "code",
   "execution_count": 9,
   "metadata": {
    "scrolled": false
   },
   "outputs": [
    {
     "name": "stdout",
     "output_type": "stream",
     "text": [
      "1\n",
      "Base Knowledge Graph: [('Wam', 'V2C_HOLD', 'PlasticBottle')]\n"
     ]
    },
    {
     "data": {
      "image/svg+xml": [
       "<?xml version=\"1.0\" encoding=\"UTF-8\" standalone=\"no\"?>\n",
       "<!DOCTYPE svg PUBLIC \"-//W3C//DTD SVG 1.1//EN\"\n",
       " \"http://www.w3.org/Graphics/SVG/1.1/DTD/svg11.dtd\">\n",
       "<!-- Generated by graphviz version 2.40.1 (20161225.0304)\n",
       " -->\n",
       "<!-- Title: KG Pages: 1 -->\n",
       "<svg width=\"121pt\" height=\"131pt\"\n",
       " viewBox=\"0.00 0.00 121.00 131.00\" xmlns=\"http://www.w3.org/2000/svg\" xmlns:xlink=\"http://www.w3.org/1999/xlink\">\n",
       "<g id=\"graph0\" class=\"graph\" transform=\"scale(1 1) rotate(0) translate(4 127)\">\n",
       "<title>KG</title>\n",
       "<polygon fill=\"#ffffff\" stroke=\"transparent\" points=\"-4,4 -4,-127 117,-127 117,4 -4,4\"/>\n",
       "<!-- Wam -->\n",
       "<g id=\"node1\" class=\"node\">\n",
       "<title>Wam</title>\n",
       "<polygon fill=\"none\" stroke=\"#000000\" points=\"70,-123 16,-123 16,-87 70,-87 70,-123\"/>\n",
       "<text text-anchor=\"middle\" x=\"43\" y=\"-101.3\" font-family=\"Times,serif\" font-size=\"14.00\" fill=\"#000000\">Wam</text>\n",
       "</g>\n",
       "<!-- PlasticBottle -->\n",
       "<g id=\"node2\" class=\"node\">\n",
       "<title>PlasticBottle</title>\n",
       "<polygon fill=\"none\" stroke=\"#000000\" points=\"86,-36 0,-36 0,0 86,0 86,-36\"/>\n",
       "<text text-anchor=\"middle\" x=\"43\" y=\"-14.3\" font-family=\"Times,serif\" font-size=\"14.00\" fill=\"#000000\">PlasticBottle</text>\n",
       "</g>\n",
       "<!-- Wam&#45;&gt;PlasticBottle -->\n",
       "<g id=\"edge1\" class=\"edge\">\n",
       "<title>Wam&#45;&gt;PlasticBottle</title>\n",
       "<path fill=\"none\" stroke=\"#000000\" d=\"M43,-86.9735C43,-75.1918 43,-59.5607 43,-46.1581\"/>\n",
       "<polygon fill=\"#000000\" stroke=\"#000000\" points=\"46.5001,-46.0033 43,-36.0034 39.5001,-46.0034 46.5001,-46.0033\"/>\n",
       "<text text-anchor=\"middle\" x=\"78\" y=\"-57.8\" font-family=\"Times,serif\" font-size=\"14.00\" fill=\"#000000\">V2C_HOLD</text>\n",
       "</g>\n",
       "</g>\n",
       "</svg>\n"
      ],
      "text/plain": [
       "<graphviz.dot.Digraph at 0x7f1f6194d860>"
      ]
     },
     "execution_count": 9,
     "metadata": {},
     "output_type": "execute_result"
    }
   ],
   "source": [
    "graph = utils.sentence_to_graph(texts[0], token2tag)\n",
    "print(len(texts))\n",
    "for i in range(len(texts)):\n",
    "    graph_curr = utils.sentence_to_graph(texts[i], token2tag)\n",
    "    for edge in graph_curr:\n",
    "        if edge not in graph:\n",
    "            graph.append(edge)\n",
    "            \n",
    "print('Base Knowledge Graph:', graph)\n",
    "e = visualize.convert_to_graphviz(graph, engine='dot')\n",
    "e"
   ]
  },
  {
   "cell_type": "markdown",
   "metadata": {},
   "source": [
    "## External Knowledge\n",
    "Search for external knowledge from ontology itself."
   ]
  },
  {
   "cell_type": "code",
   "execution_count": 10,
   "metadata": {},
   "outputs": [
    {
     "name": "stdout",
     "output_type": "stream",
     "text": [
      "\n",
      "External Knowledge Graph:\n",
      "--------------------\n",
      "[('PlasticBottle', 'hasMaterial, some', 'Plastic'), ('PlasticBottle', 'subclass_of', 'Bottle'), ('PlasticBottle', 'isGraspableBy, some', 'HumanHand'), ('PlasticBottle', 'isGraspableBy, some', 'KinovaArm'), ('PlasticBottle', 'isGraspableBy, some', 'WAMArm'), ('Bottle', 'has_subclass', 'PlasticBottle'), ('HumanHand', 'canGrasp, some', 'PlasticBottle'), ('KinovaArm', 'canGrasp, some', 'PlasticBottle'), ('WAMArm', 'canGrasp, some', 'PlasticBottle')]\n"
     ]
    }
   ],
   "source": [
    "# Search ontology, grab external knowledge\n",
    "graph_from_onto = []\n",
    "for text in texts:\n",
    "    graph_from_onto_curr = utils.retrieve_knowledge_graph(text, token2tag, onto)\n",
    "    for edge in graph_from_onto_curr:\n",
    "        if edge not in graph_from_onto:\n",
    "            graph_from_onto.append(edge)\n",
    "print()\n",
    "print('External Knowledge Graph:')\n",
    "print('-'*20)\n",
    "print(graph_from_onto)"
   ]
  },
  {
   "cell_type": "code",
   "execution_count": 11,
   "metadata": {
    "scrolled": false
   },
   "outputs": [
    {
     "data": {
      "image/svg+xml": [
       "<?xml version=\"1.0\" encoding=\"UTF-8\" standalone=\"no\"?>\n",
       "<!DOCTYPE svg PUBLIC \"-//W3C//DTD SVG 1.1//EN\"\n",
       " \"http://www.w3.org/Graphics/SVG/1.1/DTD/svg11.dtd\">\n",
       "<!-- Generated by graphviz version 2.40.1 (20161225.0304)\n",
       " -->\n",
       "<!-- Title: KG Pages: 1 -->\n",
       "<svg width=\"591pt\" height=\"526pt\"\n",
       " viewBox=\"0.00 0.00 591.31 526.04\" xmlns=\"http://www.w3.org/2000/svg\" xmlns:xlink=\"http://www.w3.org/1999/xlink\">\n",
       "<g id=\"graph0\" class=\"graph\" transform=\"scale(1 1) rotate(0) translate(4 522.0363)\">\n",
       "<title>KG</title>\n",
       "<polygon fill=\"#ffffff\" stroke=\"transparent\" points=\"-4,4 -4,-522.0363 587.3083,-522.0363 587.3083,4 -4,4\"/>\n",
       "<!-- PlasticBottle -->\n",
       "<g id=\"node1\" class=\"node\">\n",
       "<title>PlasticBottle</title>\n",
       "<polygon fill=\"none\" stroke=\"#000000\" points=\"336.5495,-276.2495 250.5495,-276.2495 250.5495,-240.2495 336.5495,-240.2495 336.5495,-276.2495\"/>\n",
       "<text text-anchor=\"middle\" x=\"293.5495\" y=\"-254.5495\" font-family=\"Times,serif\" font-size=\"14.00\" fill=\"#000000\">PlasticBottle</text>\n",
       "</g>\n",
       "<!-- Plastic -->\n",
       "<g id=\"node2\" class=\"node\">\n",
       "<title>Plastic</title>\n",
       "<polygon fill=\"none\" stroke=\"#000000\" points=\"490.5866,-467.3942 436.5866,-467.3942 436.5866,-431.3942 490.5866,-431.3942 490.5866,-467.3942\"/>\n",
       "<text text-anchor=\"middle\" x=\"463.5866\" y=\"-445.6942\" font-family=\"Times,serif\" font-size=\"14.00\" fill=\"#000000\">Plastic</text>\n",
       "</g>\n",
       "<!-- PlasticBottle&#45;&gt;Plastic -->\n",
       "<g id=\"edge1\" class=\"edge\">\n",
       "<title>PlasticBottle&#45;&gt;Plastic</title>\n",
       "<path fill=\"none\" stroke=\"#000000\" d=\"M309.8533,-276.5772C340.1961,-310.6866 405.4169,-384.0036 440.3589,-423.2831\"/>\n",
       "<polygon fill=\"#000000\" stroke=\"#000000\" points=\"438.0705,-425.9767 447.3321,-431.122 443.3006,-421.3241 438.0705,-425.9767\"/>\n",
       "<text text-anchor=\"middle\" x=\"324.1061\" y=\"-353.7302\" font-family=\"Times,serif\" font-size=\"14.00\" fill=\"#000000\">hasMaterial, some</text>\n",
       "</g>\n",
       "<!-- Bottle -->\n",
       "<g id=\"node3\" class=\"node\">\n",
       "<title>Bottle</title>\n",
       "<polygon fill=\"none\" stroke=\"#000000\" points=\"238.4099,-518.0363 184.4099,-518.0363 184.4099,-482.0363 238.4099,-482.0363 238.4099,-518.0363\"/>\n",
       "<text text-anchor=\"middle\" x=\"211.4099\" y=\"-496.3363\" font-family=\"Times,serif\" font-size=\"14.00\" fill=\"#000000\">Bottle</text>\n",
       "</g>\n",
       "<!-- PlasticBottle&#45;&gt;Bottle -->\n",
       "<g id=\"edge2\" class=\"edge\">\n",
       "<title>PlasticBottle&#45;&gt;Bottle</title>\n",
       "<path fill=\"none\" stroke=\"#000000\" d=\"M283.295,-276.3799C265.2018,-318.3109 229.7498,-422.1175 216.2172,-472.1806\"/>\n",
       "<polygon fill=\"#000000\" stroke=\"#000000\" points=\"212.7915,-471.4483 213.6763,-482.0061 219.5685,-473.2009 212.7915,-471.4483\"/>\n",
       "<text text-anchor=\"middle\" x=\"217.7561\" y=\"-378.0802\" font-family=\"Times,serif\" font-size=\"14.00\" fill=\"#000000\">subclass_of</text>\n",
       "</g>\n",
       "<!-- HumanHand -->\n",
       "<g id=\"node4\" class=\"node\">\n",
       "<title>HumanHand</title>\n",
       "<polygon fill=\"none\" stroke=\"#000000\" points=\"86,-326.1038 0,-326.1038 0,-290.1038 86,-290.1038 86,-326.1038\"/>\n",
       "<text text-anchor=\"middle\" x=\"43\" y=\"-304.4038\" font-family=\"Times,serif\" font-size=\"14.00\" fill=\"#000000\">HumanHand</text>\n",
       "</g>\n",
       "<!-- PlasticBottle&#45;&gt;HumanHand -->\n",
       "<g id=\"edge3\" class=\"edge\">\n",
       "<title>PlasticBottle&#45;&gt;HumanHand</title>\n",
       "<path fill=\"none\" stroke=\"#000000\" d=\"M250.3148,-261.5459C207.4584,-268.1419 141.7448,-281.0616 95.821,-291.819\"/>\n",
       "<polygon fill=\"#000000\" stroke=\"#000000\" points=\"94.9642,-288.4251 86.0485,-294.1488 96.5876,-295.2343 94.9642,-288.4251\"/>\n",
       "<text text-anchor=\"middle\" x=\"114.5679\" y=\"-265.4825\" font-family=\"Times,serif\" font-size=\"14.00\" fill=\"#000000\">isGraspableBy, some</text>\n",
       "</g>\n",
       "<!-- KinovaArm -->\n",
       "<g id=\"node5\" class=\"node\">\n",
       "<title>KinovaArm</title>\n",
       "<polygon fill=\"none\" stroke=\"#000000\" points=\"583.3083,-225.024 501.3083,-225.024 501.3083,-189.024 583.3083,-189.024 583.3083,-225.024\"/>\n",
       "<text text-anchor=\"middle\" x=\"542.3083\" y=\"-203.324\" font-family=\"Times,serif\" font-size=\"14.00\" fill=\"#000000\">KinovaArm</text>\n",
       "</g>\n",
       "<!-- PlasticBottle&#45;&gt;KinovaArm -->\n",
       "<g id=\"edge4\" class=\"edge\">\n",
       "<title>PlasticBottle&#45;&gt;KinovaArm</title>\n",
       "<path fill=\"none\" stroke=\"#000000\" d=\"M336.8002,-254.6695C379.7102,-247.7706 445.4658,-234.3688 490.9929,-223.3343\"/>\n",
       "<polygon fill=\"#000000\" stroke=\"#000000\" points=\"492.0868,-226.6694 500.9568,-220.8751 490.4094,-219.8733 492.0868,-226.6694\"/>\n",
       "<text text-anchor=\"middle\" x=\"355.3966\" y=\"-227.8019\" font-family=\"Times,serif\" font-size=\"14.00\" fill=\"#000000\">isGraspableBy, some</text>\n",
       "</g>\n",
       "<!-- WAMArm -->\n",
       "<g id=\"node6\" class=\"node\">\n",
       "<title>WAMArm</title>\n",
       "<polygon fill=\"none\" stroke=\"#000000\" points=\"165.0884,-85.3104 87.0884,-85.3104 87.0884,-49.3104 165.0884,-49.3104 165.0884,-85.3104\"/>\n",
       "<text text-anchor=\"middle\" x=\"126.0884\" y=\"-63.6104\" font-family=\"Times,serif\" font-size=\"14.00\" fill=\"#000000\">WAMArm</text>\n",
       "</g>\n",
       "<!-- PlasticBottle&#45;&gt;WAMArm -->\n",
       "<g id=\"edge5\" class=\"edge\">\n",
       "<title>PlasticBottle&#45;&gt;WAMArm</title>\n",
       "<path fill=\"none\" stroke=\"#000000\" d=\"M282.7864,-240.0448C257.2079,-205.7509 192.8872,-131.8674 155.0125,-92.7218\"/>\n",
       "<polygon fill=\"#000000\" stroke=\"#000000\" points=\"157.3105,-90.0663 147.8095,-85.3779 152.313,-94.9679 157.3105,-90.0663\"/>\n",
       "<text text-anchor=\"middle\" x=\"160.3994\" y=\"-170.1833\" font-family=\"Times,serif\" font-size=\"14.00\" fill=\"#000000\">isGraspableBy, some</text>\n",
       "</g>\n",
       "<!-- Bottle&#45;&gt;PlasticBottle -->\n",
       "<g id=\"edge6\" class=\"edge\">\n",
       "<title>Bottle&#45;&gt;PlasticBottle</title>\n",
       "<path fill=\"none\" stroke=\"#000000\" d=\"M221.6643,-481.9059C239.7576,-439.9749 275.2095,-336.1683 288.7422,-286.1052\"/>\n",
       "<polygon fill=\"#000000\" stroke=\"#000000\" points=\"292.1679,-286.8375 291.2831,-276.2797 285.3908,-285.0849 292.1679,-286.8375\"/>\n",
       "<text text-anchor=\"middle\" x=\"290.2033\" y=\"-387.8056\" font-family=\"Times,serif\" font-size=\"14.00\" fill=\"#000000\">has_subclass</text>\n",
       "</g>\n",
       "<!-- HumanHand&#45;&gt;PlasticBottle -->\n",
       "<g id=\"edge7\" class=\"edge\">\n",
       "<title>HumanHand&#45;&gt;PlasticBottle</title>\n",
       "<path fill=\"none\" stroke=\"#000000\" d=\"M86.2346,-304.8074C129.091,-298.2113 194.8047,-285.2916 240.7285,-274.5342\"/>\n",
       "<polygon fill=\"#000000\" stroke=\"#000000\" points=\"241.5852,-277.9281 250.501,-272.2045 239.9619,-271.1189 241.5852,-277.9281\"/>\n",
       "<text text-anchor=\"middle\" x=\"207.4815\" y=\"-293.4708\" font-family=\"Times,serif\" font-size=\"14.00\" fill=\"#000000\">canGrasp, some</text>\n",
       "</g>\n",
       "<!-- KinovaArm&#45;&gt;PlasticBottle -->\n",
       "<g id=\"edge8\" class=\"edge\">\n",
       "<title>KinovaArm&#45;&gt;PlasticBottle</title>\n",
       "<path fill=\"none\" stroke=\"#000000\" d=\"M501.0302,-210.2888C458.7443,-216.9993 392.8443,-230.3787 346.6875,-241.4987\"/>\n",
       "<polygon fill=\"#000000\" stroke=\"#000000\" points=\"345.7426,-238.1267 336.8632,-243.9065 347.4089,-244.9254 345.7426,-238.1267\"/>\n",
       "<text text-anchor=\"middle\" x=\"467.8588\" y=\"-229.6938\" font-family=\"Times,serif\" font-size=\"14.00\" fill=\"#000000\">canGrasp, some</text>\n",
       "</g>\n",
       "<!-- WAMArm&#45;&gt;PlasticBottle -->\n",
       "<g id=\"edge9\" class=\"edge\">\n",
       "<title>WAMArm&#45;&gt;PlasticBottle</title>\n",
       "<path fill=\"none\" stroke=\"#000000\" d=\"M136.8514,-85.5151C162.4299,-119.8089 226.7506,-193.6924 264.6253,-232.838\"/>\n",
       "<polygon fill=\"#000000\" stroke=\"#000000\" points=\"262.3273,-235.4935 271.8283,-240.182 267.3248,-230.5919 262.3273,-235.4935\"/>\n",
       "<text text-anchor=\"middle\" x=\"156.7384\" y=\"-147.9766\" font-family=\"Times,serif\" font-size=\"14.00\" fill=\"#000000\">canGrasp, some</text>\n",
       "</g>\n",
       "<!-- Wam -->\n",
       "<g id=\"node7\" class=\"node\">\n",
       "<title>Wam</title>\n",
       "<polygon fill=\"none\" stroke=\"#000000\" points=\"401.2264,-36 347.2264,-36 347.2264,0 401.2264,0 401.2264,-36\"/>\n",
       "<text text-anchor=\"middle\" x=\"374.2264\" y=\"-14.3\" font-family=\"Times,serif\" font-size=\"14.00\" fill=\"#000000\">Wam</text>\n",
       "</g>\n",
       "<!-- Wam&#45;&gt;PlasticBottle -->\n",
       "<g id=\"edge10\" class=\"edge\">\n",
       "<title>Wam&#45;&gt;PlasticBottle</title>\n",
       "<path fill=\"none\" stroke=\"#000000\" d=\"M368.1625,-36.0578C354.1749,-77.7117 319.574,-180.7506 302.8689,-230.4969\"/>\n",
       "<polygon fill=\"#000000\" stroke=\"#000000\" points=\"299.5492,-229.3882 299.6837,-239.9822 306.1851,-231.6166 299.5492,-229.3882\"/>\n",
       "<text text-anchor=\"middle\" x=\"300.5157\" y=\"-137.0773\" font-family=\"Times,serif\" font-size=\"14.00\" fill=\"#000000\">V2C_HOLD</text>\n",
       "</g>\n",
       "</g>\n",
       "</svg>\n"
      ],
      "text/plain": [
       "<graphviz.dot.Digraph at 0x7f1f619c7240>"
      ]
     },
     "execution_count": 11,
     "metadata": {},
     "output_type": "execute_result"
    }
   ],
   "source": [
    "e = visualize.convert_to_graphviz(graph_from_onto + graph, engine='sfdp')\n",
    "e.view()    # Save knowledge graph as a pdf\n",
    "e"
   ]
  }
 ],
 "metadata": {
  "kernelspec": {
   "display_name": "Python 3",
   "language": "python",
   "name": "python3"
  },
  "language_info": {
   "codemirror_mode": {
    "name": "ipython",
    "version": 3
   },
   "file_extension": ".py",
   "mimetype": "text/x-python",
   "name": "python",
   "nbconvert_exporter": "python",
   "pygments_lexer": "ipython3",
   "version": "3.6.9"
  }
 },
 "nbformat": 4,
 "nbformat_minor": 2
}
